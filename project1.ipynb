{
 "cells": [
  {
   "cell_type": "code",
   "id": "initial_id",
   "metadata": {
    "collapsed": true,
    "ExecuteTime": {
     "end_time": "2025-10-23T18:52:41.909197Z",
     "start_time": "2025-10-23T18:52:35.539887Z"
    }
   },
   "source": "pip install pandas",
   "outputs": [
    {
     "name": "stdout",
     "output_type": "stream",
     "text": [
      "Requirement already satisfied: pandas in c:\\users\\lenovo\\anaconda3\\envs\\challenge.py\\lib\\site-packages (2.3.3)\n",
      "Requirement already satisfied: numpy>=1.26.0 in c:\\users\\lenovo\\anaconda3\\envs\\challenge.py\\lib\\site-packages (from pandas) (2.3.3)\n",
      "Requirement already satisfied: python-dateutil>=2.8.2 in c:\\users\\lenovo\\anaconda3\\envs\\challenge.py\\lib\\site-packages (from pandas) (2.9.0.post0)\n",
      "Requirement already satisfied: pytz>=2020.1 in c:\\users\\lenovo\\anaconda3\\envs\\challenge.py\\lib\\site-packages (from pandas) (2025.2)\n",
      "Requirement already satisfied: tzdata>=2022.7 in c:\\users\\lenovo\\anaconda3\\envs\\challenge.py\\lib\\site-packages (from pandas) (2025.2)\n",
      "Requirement already satisfied: six>=1.5 in c:\\users\\lenovo\\anaconda3\\envs\\challenge.py\\lib\\site-packages (from python-dateutil>=2.8.2->pandas) (1.17.0)\n",
      "Note: you may need to restart the kernel to use updated packages.\n"
     ]
    }
   ],
   "execution_count": 3
  },
  {
   "metadata": {
    "ExecuteTime": {
     "end_time": "2025-10-23T19:03:27.756791Z",
     "start_time": "2025-10-23T19:03:27.720151Z"
    }
   },
   "cell_type": "code",
   "source": [
    "import pandas as pd\n",
    "import json\n",
    "\n",
    "# --- NEW: Define our transformation and mapping rules ---\n",
    "\n",
    "# This dictionary will map our category names to the retailer's required IDs\n",
    "CATEGORY_MAPPING = {\n",
    "    'Electronics': 501,\n",
    "    'Apparel': 602,\n",
    "    'Home': 703,\n",
    "    'Grocery': 804,\n",
    "    'Sports': 905\n",
    "}\n",
    "\n",
    "print(\"--- Starting Project 1: Syndication for ElectroWorld ---\")\n",
    "\n",
    "# This list will hold all our successfully transformed products\n",
    "electro_world_products = []\n",
    "\n",
    "# --- Load the data (same as before) ---\n",
    "try:\n",
    "    df = pd.read_csv('pim_products.csv')\n",
    "    print(f\"Successfully loaded {len(df)} products from pim_products.csv.\")\n",
    "\n",
    "    # --- NEW: Loop through each product row ---\n",
    "    # .iterrows() lets us go row-by-row\n",
    "    print(\"--- Starting mapping and transformation... ---\")\n",
    "\n",
    "    for index, row in df.iterrows():\n",
    "\n",
    "        # 1. Map: Get the numeric category ID.\n",
    "        # We use .get() as a safe way to look up the category.\n",
    "        # If the category isn't in our map, it will default to None (or 0)\n",
    "        mapped_category_id = CATEGORY_MAPPING.get(row['category'], 0) # Default to 0 if not found\n",
    "\n",
    "        # 2. Validate: Check for missing critical data\n",
    "        if not mapped_category_id: # If the ID is 0 or None\n",
    "            print(f\"SKIPPING {row['product_id']}: Unknown category '{row['category']}'\")\n",
    "            continue # Skip to the next product in the loop\n",
    "\n",
    "        if pd.isna(row['product_id']) or pd.isna(row['product_name']):\n",
    "            print(f\"SKIPPING product at row {index}: Missing required ID or Name.\")\n",
    "            continue\n",
    "\n",
    "        # 3. Transform: Create the new dictionary for the retailer\n",
    "        # This structure matches ElectroWorld's requirements\n",
    "        new_product = {\n",
    "            'sku': row['product_id'],\n",
    "            'title': row['product_name'],\n",
    "            'long_desc': row['description'],\n",
    "            'cost': row['price'],\n",
    "            'main_image': row['image_url'],\n",
    "            'category_id': mapped_category_id\n",
    "        }\n",
    "\n",
    "        # Add the newly formatted product to our list\n",
    "        electro_world_products.append(new_product)\n",
    "\n",
    "    print(f\"--- Successfully transformed {len(electro_world_products)} products. ---\")\n",
    "\n",
    "    # --- NEW: Save the final output to a JSON file ---\n",
    "    if electro_world_products:\n",
    "        # 'w' means 'write mode', overwriting any old file\n",
    "        # 'indent=4' makes the JSON file human-readable (pretty-printed)\n",
    "        with open('electroworld_feed.json', 'w') as output_file:\n",
    "            json.dump(electro_world_products, output_file, indent=4)\n",
    "\n",
    "        print(f\"Successfully created 'electroworld_feed.json'!\")\n",
    "\n",
    "except FileNotFoundError:\n",
    "    print(\"ERROR: Could not find the file 'pim_products.csv'.\")\n",
    "    print(\"Please make sure it's in the same folder as the Python script.\")\n",
    "except Exception as e:\n",
    "    print(f\"An unexpected error occurred: {e}\")\n",
    "\n",
    "print(\"\\n--- Project 1 complete ---\")"
   ],
   "id": "ea1d76c8a6775676",
   "outputs": [
    {
     "name": "stdout",
     "output_type": "stream",
     "text": [
      "--- Starting Project 1: Syndication for ElectroWorld ---\n",
      "Successfully loaded 5 products from pim_products.csv.\n",
      "--- Starting mapping and transformation... ---\n",
      "SKIPPING SKU1003: Unknown category ' works with Alexa and Google Home. 16 million colors.'\n",
      "SKIPPING SKU1004: Unknown category ' 1kg bag. Fairtrade certified.'\n",
      "--- Successfully transformed 3 products. ---\n",
      "Successfully created 'electroworld_feed.json'!\n",
      "\n",
      "--- Project 1 complete ---\n"
     ]
    }
   ],
   "execution_count": 7
  },
  {
   "metadata": {
    "ExecuteTime": {
     "end_time": "2025-10-23T19:10:03.998181Z",
     "start_time": "2025-10-23T19:10:03.983305Z"
    }
   },
   "cell_type": "code",
   "source": [
    "file = open('electroworld_feed.json','r')\n",
    "reading_file = file.read()\n",
    "print(reading_file)\n",
    "file.close()"
   ],
   "id": "67a2f18db926dc03",
   "outputs": [
    {
     "name": "stdout",
     "output_type": "stream",
     "text": [
      "[\n",
      "    {\n",
      "        \"sku\": \"SKU1001\",\n",
      "        \"title\": \"Wireless Noise-Cancelling Headphones\",\n",
      "        \"long_desc\": \"Premium over-ear headphones with 30-hour battery life.\",\n",
      "        \"cost\": \"249.99\",\n",
      "        \"main_image\": \"https://example.com/img/headphones.jpg\",\n",
      "        \"category_id\": 501\n",
      "    },\n",
      "    {\n",
      "        \"sku\": \"SKU1002\",\n",
      "        \"title\": \"Men's Classic T-Shirt\",\n",
      "        \"long_desc\": \"100% cotton crewneck t-shirt. Available in 5 colors.\",\n",
      "        \"cost\": \"29.99\",\n",
      "        \"main_image\": \"https://example.com/img/tshirt.jpg\",\n",
      "        \"category_id\": 602\n",
      "    },\n",
      "    {\n",
      "        \"sku\": \"SKU1005\",\n",
      "        \"title\": \"Yoga Mat\",\n",
      "        \"long_desc\": \"Extra thick non-slip exercise mat.\",\n",
      "        \"cost\": \"34.95\",\n",
      "        \"main_image\": \"https://example.com/img/mat.jpg\",\n",
      "        \"category_id\": 905\n",
      "    }\n",
      "]\n"
     ]
    }
   ],
   "execution_count": 9
  },
  {
   "metadata": {},
   "cell_type": "code",
   "outputs": [],
   "execution_count": null,
   "source": "",
   "id": "8caad3cc2229ea7a"
  }
 ],
 "metadata": {
  "kernelspec": {
   "display_name": "Python 3",
   "language": "python",
   "name": "python3"
  },
  "language_info": {
   "codemirror_mode": {
    "name": "ipython",
    "version": 2
   },
   "file_extension": ".py",
   "mimetype": "text/x-python",
   "name": "python",
   "nbconvert_exporter": "python",
   "pygments_lexer": "ipython2",
   "version": "2.7.6"
  }
 },
 "nbformat": 4,
 "nbformat_minor": 5
}
